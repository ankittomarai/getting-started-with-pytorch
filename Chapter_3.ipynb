{
  "nbformat": 4,
  "nbformat_minor": 0,
  "metadata": {
    "colab": {
      "provenance": []
    },
    "kernelspec": {
      "name": "python3",
      "display_name": "Python 3"
    },
    "language_info": {
      "name": "python"
    }
  },
  "cells": [
    {
      "cell_type": "code",
      "source": [
        "## model development and training\n",
        "import torch\n",
        "from torchvision.datasets import CIFAR10\n",
        "\n",
        "from torch.utils.data import DataLoader\n",
        "from torchvision import models\n",
        "from torch import optim\n",
        "\n",
        "import torch.nn as nn"
      ],
      "metadata": {
        "id": "D-QWJ6fmsoXL"
      },
      "execution_count": 1,
      "outputs": []
    },
    {
      "cell_type": "code",
      "source": [
        "import torch.optim as optim\n",
        "import torch.nn.functional as F"
      ],
      "metadata": {
        "id": "4RGBkfGdJukd"
      },
      "execution_count": 2,
      "outputs": []
    },
    {
      "cell_type": "code",
      "source": [
        "## make a NN and feedforward network\n",
        "\n",
        "class Net(nn.Module):\n",
        "\n",
        "  def __init__(self):\n",
        "    super(Net, self).__init__()\n",
        "    self.conv1 = nn.Conv2d(3,6,5)\n",
        "\n",
        "    self.pool = nn.MaxPool2d(2,2)\n",
        "\n",
        "    self.conv2 = nn.Conv2d(6,16,5)\n",
        "\n",
        "    self.fc1 = nn.Linear(16 *5*5,120)\n",
        "\n",
        "    self.fc2 = nn.Linear(120,84)\n",
        "\n",
        "    self.fc3 = nn.Linear(84,10)\n",
        "\n",
        "  def forward(self, x):\n",
        "\n",
        "    x = self.pool(F.relu(self.conv1(x)))\n",
        "    x = self.pool(F.relu(self.conv2(x)))\n",
        "    x = x.view(-1,16*5*5)\n",
        "    x = F.relu(self.fc1(x))\n",
        "    x = F.relu(self.fc2(x))\n",
        "    x = self.fc3(x)\n",
        "\n",
        "    return x"
      ],
      "metadata": {
        "id": "DL8laz0xJ10y"
      },
      "execution_count": 3,
      "outputs": []
    },
    {
      "cell_type": "code",
      "source": [
        "net = Net()\n",
        "\n",
        "criterion = nn.CrossEntropyLoss()\n",
        "optimizer = optim.SGD(net.parameters(), lr=0.001, momentum=0.9)"
      ],
      "metadata": {
        "id": "nklXDJhLK-pH"
      },
      "execution_count": 4,
      "outputs": []
    },
    {
      "cell_type": "code",
      "source": [
        "from torchvision import transforms"
      ],
      "metadata": {
        "id": "Fhv_AIw0LjwB"
      },
      "execution_count": 6,
      "outputs": []
    },
    {
      "cell_type": "code",
      "source": [
        "transform = transforms.Compose(\n",
        "    [transforms.ToTensor(),\n",
        "     transforms.Normalize((0.5, 0.5, 0.5), (0.5, 0.5, 0.5))])\n",
        "\n",
        "\n",
        "trainset = CIFAR10(root='./data', train=True,\n",
        "                                        download=True, transform=transform)\n",
        "trainloader = DataLoader(trainset, batch_size=4,\n",
        "                                          shuffle=True, num_workers=2)\n",
        "\n",
        "\n",
        "testset = CIFAR10(root='./data', train=False,\n",
        "                                        download=False, transform=transform)\n",
        "testLoader = DataLoader(trainset, batch_size=4,\n",
        "                                          shuffle=False, num_workers=2)"
      ],
      "metadata": {
        "colab": {
          "base_uri": "https://localhost:8080/"
        },
        "id": "N8S1VaDQLMSR",
        "outputId": "83a14bbb-3b11-4b3d-cd6a-02a152f7b30f"
      },
      "execution_count": 7,
      "outputs": [
        {
          "output_type": "stream",
          "name": "stderr",
          "text": [
            "100%|██████████| 170M/170M [00:10<00:00, 15.8MB/s]\n"
          ]
        }
      ]
    },
    {
      "cell_type": "code",
      "source": [
        "## train the NN network\n",
        "\n",
        "for epoch in range(10):\n",
        "\n",
        "  running_loss = 0.0\n",
        "  for i, data in enumerate(trainloader, 0):\n",
        "\n",
        "    input, labels = data\n",
        "\n",
        "    ## zero the optimizer grad\n",
        "    optimizer.zero_grad()\n",
        "\n",
        "    ## forward + backward + optimize\n",
        "    outputs = net(input)\n",
        "    loss = criterion(outputs, labels)\n",
        "    loss.backward()\n",
        "    optimizer.step()\n",
        "\n",
        "    running_loss += loss.item()\n",
        "\n",
        "\n",
        "    if i%2000 ==1999:\n",
        "      print(f'{epoch+1}, {i+1} loss: {running_loss/2000}')\n",
        "      running_loss = 0.0\n",
        "print('Finished Training')"
      ],
      "metadata": {
        "colab": {
          "base_uri": "https://localhost:8080/"
        },
        "id": "ab1jyJoPLh3-",
        "outputId": "88a3c377-e42b-42fc-a78f-2f6d61d211be"
      },
      "execution_count": 8,
      "outputs": [
        {
          "output_type": "stream",
          "name": "stdout",
          "text": [
            "1, 2000 loss: 2.213680555999279\n",
            "1, 4000 loss: 1.9156706486940385\n",
            "1, 6000 loss: 1.696417014837265\n",
            "1, 8000 loss: 1.6038744283914566\n",
            "1, 10000 loss: 1.5296367170214653\n",
            "1, 12000 loss: 1.4886816868185997\n",
            "2, 2000 loss: 1.4036482996419073\n",
            "2, 4000 loss: 1.3782630286216735\n",
            "2, 6000 loss: 1.3565317768082024\n",
            "2, 8000 loss: 1.3383126486465335\n",
            "2, 10000 loss: 1.3068840001374482\n",
            "2, 12000 loss: 1.2834400725215673\n",
            "3, 2000 loss: 1.2061281855218113\n",
            "3, 4000 loss: 1.1998794317021966\n",
            "3, 6000 loss: 1.2146123760975898\n",
            "3, 8000 loss: 1.1998662186712026\n",
            "3, 10000 loss: 1.209570208242163\n",
            "3, 12000 loss: 1.1792690735422076\n",
            "4, 2000 loss: 1.1109321550913156\n",
            "4, 4000 loss: 1.0983363323882223\n",
            "4, 6000 loss: 1.1163717730306089\n",
            "4, 8000 loss: 1.0980371537506581\n",
            "4, 10000 loss: 1.108049239575863\n",
            "4, 12000 loss: 1.1194958247821778\n",
            "5, 2000 loss: 1.0208505357168616\n",
            "5, 4000 loss: 1.0182847495810128\n",
            "5, 6000 loss: 1.0270243784375488\n",
            "5, 8000 loss: 1.0653964391341433\n",
            "5, 10000 loss: 1.040215023238212\n",
            "5, 12000 loss: 1.0583184533556924\n",
            "6, 2000 loss: 0.9554429361447692\n",
            "6, 4000 loss: 0.9869738613739609\n",
            "6, 6000 loss: 0.9715774864833802\n",
            "6, 8000 loss: 0.9684206048850902\n",
            "6, 10000 loss: 0.9866082797516137\n",
            "6, 12000 loss: 0.998441276807338\n",
            "7, 2000 loss: 0.8979086942501598\n",
            "7, 4000 loss: 0.9304040716788732\n",
            "7, 6000 loss: 0.9339940135581419\n",
            "7, 8000 loss: 0.9428051193959546\n",
            "7, 10000 loss: 0.9307822787906044\n",
            "7, 12000 loss: 0.959171740478836\n",
            "8, 2000 loss: 0.8753063714979217\n",
            "8, 4000 loss: 0.8704438647917705\n",
            "8, 6000 loss: 0.8933717321618461\n",
            "8, 8000 loss: 0.9066067012143322\n",
            "8, 10000 loss: 0.9100952425366268\n",
            "8, 12000 loss: 0.9032385335131549\n",
            "9, 2000 loss: 0.8214410331489053\n",
            "9, 4000 loss: 0.816524954282795\n",
            "9, 6000 loss: 0.861738715155283\n",
            "9, 8000 loss: 0.8577346483293222\n",
            "9, 10000 loss: 0.89660218911618\n",
            "9, 12000 loss: 0.8869068551505915\n",
            "10, 2000 loss: 0.7753596993335523\n",
            "10, 4000 loss: 0.8010320371581474\n",
            "10, 6000 loss: 0.8285629483330995\n",
            "10, 8000 loss: 0.837028694871231\n",
            "10, 10000 loss: 0.8679466681743506\n",
            "10, 12000 loss: 0.8575061681761872\n",
            "Finished Training\n"
          ]
        }
      ]
    },
    {
      "cell_type": "code",
      "source": [
        "## train the NN network\n",
        "\n",
        "for epoch in range(10):\n",
        "\n",
        "  running_loss = 0.0\n",
        "  for i, data in enumerate(trainloader, 0):\n",
        "\n",
        "    input, labels = data\n",
        "\n",
        "    ## zero the optimizer grad\n",
        "    optimizer.zero_grad()\n",
        "\n",
        "    ## forward + backward + optimize\n",
        "    outputs = net(input)\n",
        "    loss = criterion(outputs, labels)\n",
        "    loss.backward()\n",
        "    optimizer.step()\n",
        "\n",
        "    running_loss += loss.item()\n",
        "\n",
        "  net.eval()\n",
        "  validation_loss = 0.0\n",
        "  correct= 0\n",
        "  total = 0\n",
        "  with torch.no_grad():\n",
        "    for data in testLoader:\n",
        "      images, labels = data\n",
        "      outputs = net(images)\n",
        "      loss = criterion(outputs, labels)\n",
        "      validation_loss += loss.item()\n",
        "\n",
        "      _, preedicted = torch.max(outputs.data, 1)\n",
        "      total += labels.size(0)\n",
        "      correct += (predicted == labels).sum().item()\n",
        "      print(f'{epoch+1}, {i+1} loss: {running_loss/2000}')\n",
        "      running_loss = 0.0\n",
        "print('Finished VALIDATION')"
      ],
      "metadata": {
        "id": "JIyoHkMHMTEe"
      },
      "execution_count": 9,
      "outputs": []
    },
    {
      "cell_type": "code",
      "source": [],
      "metadata": {
        "id": "dsjXNCs5N5Hm"
      },
      "execution_count": null,
      "outputs": []
    }
  ]
}