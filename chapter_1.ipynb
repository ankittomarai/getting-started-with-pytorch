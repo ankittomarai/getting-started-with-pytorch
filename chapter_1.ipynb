{
  "nbformat": 4,
  "nbformat_minor": 0,
  "metadata": {
    "colab": {
      "provenance": [],
      "toc_visible": true
    },
    "kernelspec": {
      "name": "python3",
      "display_name": "Python 3"
    },
    "language_info": {
      "name": "python"
    }
  },
  "cells": [
    {
      "cell_type": "code",
      "execution_count": 1,
      "metadata": {
        "colab": {
          "base_uri": "https://localhost:8080/"
        },
        "id": "ipQZL1EvTiVB",
        "outputId": "b0186b8b-9d32-4676-c97a-0fb52a698b0b"
      },
      "outputs": [
        {
          "output_type": "stream",
          "name": "stdout",
          "text": [
            "2.6.0+cu124\n"
          ]
        }
      ],
      "source": [
        "import torch\n",
        "\n",
        "print(torch.__version__)"
      ]
    },
    {
      "cell_type": "code",
      "source": [
        "print(torch.cuda.is_available())"
      ],
      "metadata": {
        "colab": {
          "base_uri": "https://localhost:8080/"
        },
        "id": "bj0moeITTuwl",
        "outputId": "7b04a617-2bf3-481b-8757-b45b7696bf5a"
      },
      "execution_count": 3,
      "outputs": [
        {
          "output_type": "stream",
          "name": "stdout",
          "text": [
            "False\n"
          ]
        }
      ]
    },
    {
      "cell_type": "code",
      "source": [
        "## create tensor with CPU\n",
        "\n",
        "import torch\n",
        "\n",
        "first_tens = torch.tensor([[1,2,3], [11, 12, 13]])\n",
        "\n",
        "second_tens = torch.tensor([[21,22,23], [31, 32, 33]])"
      ],
      "metadata": {
        "id": "nYERmmosTzFP"
      },
      "execution_count": 4,
      "outputs": []
    },
    {
      "cell_type": "code",
      "source": [
        "first_tens"
      ],
      "metadata": {
        "colab": {
          "base_uri": "https://localhost:8080/"
        },
        "id": "D2zMZP2bULic",
        "outputId": "f70ca7d7-01b1-42bc-8c1c-a60dd0c5813e"
      },
      "execution_count": 5,
      "outputs": [
        {
          "output_type": "execute_result",
          "data": {
            "text/plain": [
              "tensor([[ 1,  2,  3],\n",
              "        [11, 12, 13]])"
            ]
          },
          "metadata": {},
          "execution_count": 5
        }
      ]
    },
    {
      "cell_type": "code",
      "source": [
        "second_tens\n"
      ],
      "metadata": {
        "colab": {
          "base_uri": "https://localhost:8080/"
        },
        "id": "fgKY4fA-UMGI",
        "outputId": "56360da1-b59d-47ef-cb18-511d8e77f141"
      },
      "execution_count": 6,
      "outputs": [
        {
          "output_type": "execute_result",
          "data": {
            "text/plain": [
              "tensor([[21, 22, 23],\n",
              "        [31, 32, 33]])"
            ]
          },
          "metadata": {},
          "execution_count": 6
        }
      ]
    },
    {
      "cell_type": "code",
      "source": [
        "## add two tensors\n",
        "add_tensor = first_tens+ second_tens\n",
        "add_tensor"
      ],
      "metadata": {
        "colab": {
          "base_uri": "https://localhost:8080/"
        },
        "id": "tN8EOlQdUNWh",
        "outputId": "30499ee8-728b-410f-9194-815a208b8ace"
      },
      "execution_count": 7,
      "outputs": [
        {
          "output_type": "execute_result",
          "data": {
            "text/plain": [
              "tensor([[22, 24, 26],\n",
              "        [42, 44, 46]])"
            ]
          },
          "metadata": {},
          "execution_count": 7
        }
      ]
    },
    {
      "cell_type": "code",
      "source": [
        "## substrcat two tensors\n",
        "sub_tensor = second_tens-first_tens\n",
        "sub_tensor"
      ],
      "metadata": {
        "colab": {
          "base_uri": "https://localhost:8080/"
        },
        "id": "_vWK9We1UToB",
        "outputId": "65bb81b2-5e80-402a-8582-8d9b7478db8f"
      },
      "execution_count": 9,
      "outputs": [
        {
          "output_type": "execute_result",
          "data": {
            "text/plain": [
              "tensor([[20, 20, 20],\n",
              "        [20, 20, 20]])"
            ]
          },
          "metadata": {},
          "execution_count": 9
        }
      ]
    },
    {
      "cell_type": "code",
      "source": [
        "## substrcat two tensors\n",
        "sub_tensor = first_tens-second_tens\n",
        "sub_tensor"
      ],
      "metadata": {
        "colab": {
          "base_uri": "https://localhost:8080/"
        },
        "id": "wqcaBfhvUakS",
        "outputId": "bb3b31d2-98a0-44e8-c6ad-446d52d81f50"
      },
      "execution_count": 10,
      "outputs": [
        {
          "output_type": "execute_result",
          "data": {
            "text/plain": [
              "tensor([[-20, -20, -20],\n",
              "        [-20, -20, -20]])"
            ]
          },
          "metadata": {},
          "execution_count": 10
        }
      ]
    },
    {
      "cell_type": "code",
      "source": [
        "## we can move tensors between CPU to GPU\n",
        "## there may be different ways to create tensors\n",
        "\n",
        "import torch\n",
        "\n",
        "import numpy as np"
      ],
      "metadata": {
        "id": "UI3iRvYdUfaV"
      },
      "execution_count": 11,
      "outputs": []
    },
    {
      "cell_type": "code",
      "source": [
        "## from the list\n",
        "tensor_from_list = torch.tensor([1,2,3,4,5])\n",
        "print(\"this is list tensor\", tensor_from_list)\n",
        "\n",
        "## from tuple\n",
        "tensor_from_tuple = torch.tensor((6,7,8,9,10))\n",
        "print(\"this is tuple tensor\", tensor_from_tuple)\n",
        "\n",
        "# from array\n",
        "tensor_from_array = torch.tensor(np.array([11, 12, 14,15]))\n",
        "\n",
        "print(\"tensor from array :\", tensor_from_array)\n",
        "\n"
      ],
      "metadata": {
        "colab": {
          "base_uri": "https://localhost:8080/"
        },
        "id": "q6L_zot3VhKB",
        "outputId": "b8542c2b-9246-480e-b49e-b03fbb910872"
      },
      "execution_count": 14,
      "outputs": [
        {
          "output_type": "stream",
          "name": "stdout",
          "text": [
            "this is list tensor tensor([1, 2, 3, 4, 5])\n",
            "this is tuple tensor tensor([ 6,  7,  8,  9, 10])\n",
            "tensor from array : tensor([11, 12, 14, 15])\n"
          ]
        }
      ]
    },
    {
      "cell_type": "code",
      "source": [
        "### create different type of tensors\n",
        "tensor_empty = torch.empty(3,4)\n",
        "tensor_empty"
      ],
      "metadata": {
        "colab": {
          "base_uri": "https://localhost:8080/"
        },
        "id": "TqMzwo8QV2xk",
        "outputId": "ed68db17-e9f8-498f-fa32-9eeaa17e461a"
      },
      "execution_count": 15,
      "outputs": [
        {
          "output_type": "execute_result",
          "data": {
            "text/plain": [
              "tensor([[2.1031e-10, 0.0000e+00, 5.3389e-43, 1.6816e-44],\n",
              "        [2.1031e-10, 0.0000e+00, 1.5512e-42, 0.0000e+00],\n",
              "        [2.1031e-10, 0.0000e+00, 5.3389e-43, 7.1846e+22]])"
            ]
          },
          "metadata": {},
          "execution_count": 15
        }
      ]
    },
    {
      "cell_type": "code",
      "source": [
        "tensor_zero = torch.zeros(3,4)\n",
        "tensor_zero"
      ],
      "metadata": {
        "colab": {
          "base_uri": "https://localhost:8080/"
        },
        "id": "mUy9Uk1dWTs6",
        "outputId": "1f3daa63-2c87-446b-c6f0-32ec5c834dd9"
      },
      "execution_count": 17,
      "outputs": [
        {
          "output_type": "execute_result",
          "data": {
            "text/plain": [
              "tensor([[0., 0., 0., 0.],\n",
              "        [0., 0., 0., 0.],\n",
              "        [0., 0., 0., 0.]])"
            ]
          },
          "metadata": {},
          "execution_count": 17
        }
      ]
    },
    {
      "cell_type": "code",
      "source": [
        "tensor_one = torch.ones(3,4)\n",
        "tensor_one"
      ],
      "metadata": {
        "colab": {
          "base_uri": "https://localhost:8080/"
        },
        "id": "QvhfKf-xWaHz",
        "outputId": "90804a92-1729-4c41-e232-283a486dda13"
      },
      "execution_count": 18,
      "outputs": [
        {
          "output_type": "execute_result",
          "data": {
            "text/plain": [
              "tensor([[1., 1., 1., 1.],\n",
              "        [1., 1., 1., 1.],\n",
              "        [1., 1., 1., 1.]])"
            ]
          },
          "metadata": {},
          "execution_count": 18
        }
      ]
    },
    {
      "cell_type": "code",
      "source": [
        "## tensors with Random values\n",
        "tensor_rand = torch.rand(3,4)\n",
        "tensor_rand"
      ],
      "metadata": {
        "colab": {
          "base_uri": "https://localhost:8080/"
        },
        "id": "eBG2TX3sWgds",
        "outputId": "95d7b813-dd7f-420f-ada0-6c4a1404f249"
      },
      "execution_count": 20,
      "outputs": [
        {
          "output_type": "execute_result",
          "data": {
            "text/plain": [
              "tensor([[0.9315, 0.4740, 0.9455, 0.4887],\n",
              "        [0.5200, 0.3622, 0.4935, 0.8022],\n",
              "        [0.9270, 0.0057, 0.0545, 0.9697]])"
            ]
          },
          "metadata": {},
          "execution_count": 20
        }
      ]
    },
    {
      "cell_type": "code",
      "source": [
        "## tensors with Random valueswith normalization   --- important\n",
        "tensor_rand = torch.randn(3,4)\n",
        "tensor_rand"
      ],
      "metadata": {
        "colab": {
          "base_uri": "https://localhost:8080/"
        },
        "id": "1ZnWThMtWsQI",
        "outputId": "0b54b02e-e17f-40d9-9823-6b38b2902aed"
      },
      "execution_count": 21,
      "outputs": [
        {
          "output_type": "execute_result",
          "data": {
            "text/plain": [
              "tensor([[-0.5241,  0.2832, -0.1867,  0.2344],\n",
              "        [ 1.1406, -0.2098, -0.3282,  1.0708],\n",
              "        [-2.7949, -0.1991, -2.0357,  0.7550]])"
            ]
          },
          "metadata": {},
          "execution_count": 21
        }
      ]
    },
    {
      "cell_type": "code",
      "source": [
        "## tensors with Random values with uniform interger   --- important\n",
        "tensor_rand = torch.randint(1,10,(2,2)) ## we need to tell the range and size to pick the inter\n",
        "tensor_rand"
      ],
      "metadata": {
        "colab": {
          "base_uri": "https://localhost:8080/"
        },
        "id": "8FIwbxPYWy1X",
        "outputId": "f61af3af-ffa3-4b6f-85c5-7a4e18dd827a"
      },
      "execution_count": 24,
      "outputs": [
        {
          "output_type": "execute_result",
          "data": {
            "text/plain": [
              "tensor([[1, 1],\n",
              "        [8, 2]])"
            ]
          },
          "metadata": {},
          "execution_count": 24
        }
      ]
    },
    {
      "cell_type": "code",
      "source": [
        "## like one\n",
        "\n",
        "tensor_like_one = torch.ones_like(tensor_rand)\n",
        "tensor_like_one"
      ],
      "metadata": {
        "colab": {
          "base_uri": "https://localhost:8080/"
        },
        "id": "QEuTPaCFW8G8",
        "outputId": "8080537c-8194-44fd-cd05-ae0415d152fd"
      },
      "execution_count": 30,
      "outputs": [
        {
          "output_type": "execute_result",
          "data": {
            "text/plain": [
              "tensor([[1, 1],\n",
              "        [1, 1]])"
            ]
          },
          "metadata": {},
          "execution_count": 30
        }
      ]
    },
    {
      "cell_type": "code",
      "source": [
        "##what are the tensor attributes\n",
        "## size, rank and data type"
      ],
      "metadata": {
        "id": "iDAYCGQgXR6K"
      },
      "execution_count": 31,
      "outputs": []
    },
    {
      "cell_type": "code",
      "source": [
        "import torch\n",
        "\n",
        "first_tens = torch.tensor([[1,2,3,4,5,5], [2,3,4,5,9,7]])"
      ],
      "metadata": {
        "id": "9Y9EB1QdXnfb"
      },
      "execution_count": 40,
      "outputs": []
    },
    {
      "cell_type": "code",
      "source": [
        "first_tens.device"
      ],
      "metadata": {
        "colab": {
          "base_uri": "https://localhost:8080/"
        },
        "id": "IpInCqyOXt3l",
        "outputId": "81910de8-6d02-4159-a07c-fefe69f0c95e"
      },
      "execution_count": 34,
      "outputs": [
        {
          "output_type": "execute_result",
          "data": {
            "text/plain": [
              "device(type='cpu')"
            ]
          },
          "metadata": {},
          "execution_count": 34
        }
      ]
    },
    {
      "cell_type": "code",
      "source": [
        "first_tens.dtype"
      ],
      "metadata": {
        "colab": {
          "base_uri": "https://localhost:8080/"
        },
        "id": "RB6DK0QTXzKU",
        "outputId": "cbca8062-0d14-4f67-83c9-9006f6afa844"
      },
      "execution_count": 35,
      "outputs": [
        {
          "output_type": "execute_result",
          "data": {
            "text/plain": [
              "torch.int64"
            ]
          },
          "metadata": {},
          "execution_count": 35
        }
      ]
    },
    {
      "cell_type": "code",
      "source": [
        "first_tens.shape"
      ],
      "metadata": {
        "colab": {
          "base_uri": "https://localhost:8080/"
        },
        "id": "az3Ng2mqX2hV",
        "outputId": "a1e343fc-100b-4ac0-dd8c-3a6effaf65d1"
      },
      "execution_count": 42,
      "outputs": [
        {
          "output_type": "execute_result",
          "data": {
            "text/plain": [
              "torch.Size([2, 6])"
            ]
          },
          "metadata": {},
          "execution_count": 42
        }
      ]
    },
    {
      "cell_type": "code",
      "source": [
        "## dim used for the dimensiins and rank\n",
        "\n",
        "first_tens.ndim"
      ],
      "metadata": {
        "colab": {
          "base_uri": "https://localhost:8080/"
        },
        "id": "zMsk9ThDX4wG",
        "outputId": "c30fd389-b384-44af-cb4a-5dc425f84a84"
      },
      "execution_count": 41,
      "outputs": [
        {
          "output_type": "execute_result",
          "data": {
            "text/plain": [
              "2"
            ]
          },
          "metadata": {},
          "execution_count": 41
        }
      ]
    },
    {
      "cell_type": "code",
      "source": [
        "second_tensor = torch.tensor([[1,2,3], [4,5,6],[7,8,9], [10,11,12]]) ## number of brackets decides the ndim\n",
        "second_tensor"
      ],
      "metadata": {
        "colab": {
          "base_uri": "https://localhost:8080/"
        },
        "id": "mtzWP1mDYDoz",
        "outputId": "c574bd0e-c566-4e84-afe7-1b7c5536659a"
      },
      "execution_count": 55,
      "outputs": [
        {
          "output_type": "execute_result",
          "data": {
            "text/plain": [
              "tensor([[ 1,  2,  3],\n",
              "        [ 4,  5,  6],\n",
              "        [ 7,  8,  9],\n",
              "        [10, 11, 12]])"
            ]
          },
          "metadata": {},
          "execution_count": 55
        }
      ]
    },
    {
      "cell_type": "code",
      "source": [
        "second_tensor.dtype"
      ],
      "metadata": {
        "colab": {
          "base_uri": "https://localhost:8080/"
        },
        "id": "EdksqQxJaqAH",
        "outputId": "bb782284-c125-4b9b-dd8e-244585449529"
      },
      "execution_count": 56,
      "outputs": [
        {
          "output_type": "execute_result",
          "data": {
            "text/plain": [
              "torch.int64"
            ]
          },
          "metadata": {},
          "execution_count": 56
        }
      ]
    },
    {
      "cell_type": "code",
      "source": [
        "second_tensor.shape"
      ],
      "metadata": {
        "colab": {
          "base_uri": "https://localhost:8080/"
        },
        "id": "Hv4j29oBauFb",
        "outputId": "66bc84bc-dc7c-41ac-cd73-ab54380a53c4"
      },
      "execution_count": 57,
      "outputs": [
        {
          "output_type": "execute_result",
          "data": {
            "text/plain": [
              "torch.Size([4, 3])"
            ]
          },
          "metadata": {},
          "execution_count": 57
        }
      ]
    },
    {
      "cell_type": "code",
      "source": [
        "second_tensor.ndim"
      ],
      "metadata": {
        "colab": {
          "base_uri": "https://localhost:8080/"
        },
        "id": "cVenOzoXavb-",
        "outputId": "d4837ebf-448f-47fa-aaab-11580796d377"
      },
      "execution_count": 58,
      "outputs": [
        {
          "output_type": "execute_result",
          "data": {
            "text/plain": [
              "2"
            ]
          },
          "metadata": {},
          "execution_count": 58
        }
      ]
    },
    {
      "cell_type": "code",
      "source": [
        "## tensor dtypes\n",
        "import torch\n",
        "\n",
        "int_tensor = torch.tensor([1,2,3,4,5], dtype=torch.int8)\n",
        "int_tensor.dtype"
      ],
      "metadata": {
        "colab": {
          "base_uri": "https://localhost:8080/"
        },
        "id": "DYO9DKROa1C1",
        "outputId": "56be491a-c4b7-4ea1-fde0-66f7f4e6a748"
      },
      "execution_count": 59,
      "outputs": [
        {
          "output_type": "execute_result",
          "data": {
            "text/plain": [
              "torch.int8"
            ]
          },
          "metadata": {},
          "execution_count": 59
        }
      ]
    },
    {
      "cell_type": "code",
      "source": [
        "float_tensor = torch.tensor([6,7,8,9],dtype=float)\n",
        "float_tensor"
      ],
      "metadata": {
        "colab": {
          "base_uri": "https://localhost:8080/"
        },
        "id": "PokTu0bSc8iX",
        "outputId": "7a951b69-afc6-4315-deee-97b7a3177069"
      },
      "execution_count": 60,
      "outputs": [
        {
          "output_type": "execute_result",
          "data": {
            "text/plain": [
              "tensor([6., 7., 8., 9.], dtype=torch.float64)"
            ]
          },
          "metadata": {},
          "execution_count": 60
        }
      ]
    },
    {
      "cell_type": "code",
      "source": [
        "short_tensor = torch.tensor([6,7,8,9], dtype= torch.int16)\n",
        "short_tensor.dtype"
      ],
      "metadata": {
        "colab": {
          "base_uri": "https://localhost:8080/"
        },
        "id": "4LKGlneEdDAM",
        "outputId": "30dc69ab-f747-4053-fccc-b00d4a89cc38"
      },
      "execution_count": 66,
      "outputs": [
        {
          "output_type": "execute_result",
          "data": {
            "text/plain": [
              "torch.int16"
            ]
          },
          "metadata": {},
          "execution_count": 66
        }
      ]
    },
    {
      "cell_type": "code",
      "source": [
        "## casting\n",
        "int_tensor = int_tensor.float()\n",
        "int_tensor.dtype"
      ],
      "metadata": {
        "colab": {
          "base_uri": "https://localhost:8080/"
        },
        "id": "Ol8vxkf-dIdQ",
        "outputId": "22804e91-b350-4c75-c8f2-260ad7927a9d"
      },
      "execution_count": 67,
      "outputs": [
        {
          "output_type": "execute_result",
          "data": {
            "text/plain": [
              "torch.float32"
            ]
          },
          "metadata": {},
          "execution_count": 67
        }
      ]
    },
    {
      "cell_type": "code",
      "source": [
        "last_tensor = short_tensor.to(dtype=torch.int8)\n",
        "last_tensor.dtype"
      ],
      "metadata": {
        "colab": {
          "base_uri": "https://localhost:8080/"
        },
        "id": "xQJNF4uvdUnL",
        "outputId": "cf3b1178-5486-4046-d5ce-29a401708f73"
      },
      "execution_count": 68,
      "outputs": [
        {
          "output_type": "execute_result",
          "data": {
            "text/plain": [
              "torch.int8"
            ]
          },
          "metadata": {},
          "execution_count": 68
        }
      ]
    },
    {
      "cell_type": "code",
      "source": [
        "## creating tesnors from random samples\n",
        "import torch"
      ],
      "metadata": {
        "id": "6nDnGfe8df-x"
      },
      "execution_count": 69,
      "outputs": []
    },
    {
      "cell_type": "code",
      "source": [
        "## set the random seed to get fixed values\n",
        "\n",
        "torch.manual_seed(111)\n",
        "torch.rand(3,3)"
      ],
      "metadata": {
        "colab": {
          "base_uri": "https://localhost:8080/"
        },
        "id": "Al4ERBtbdt4R",
        "outputId": "d40b31da-6b34-4ebe-cb85-7d351cad4104"
      },
      "execution_count": 70,
      "outputs": [
        {
          "output_type": "execute_result",
          "data": {
            "text/plain": [
              "tensor([[0.7156, 0.9140, 0.2819],\n",
              "        [0.2581, 0.6311, 0.6001],\n",
              "        [0.9312, 0.2153, 0.6033]])"
            ]
          },
          "metadata": {},
          "execution_count": 70
        }
      ]
    },
    {
      "cell_type": "code",
      "source": [
        "## lets make a randome normal dist sample\n",
        "torch.rand(4,4)"
      ],
      "metadata": {
        "colab": {
          "base_uri": "https://localhost:8080/"
        },
        "id": "gnPKbWAZd4u-",
        "outputId": "96b535ae-bbe4-4bb6-8780-7ac696a97a07"
      },
      "execution_count": 72,
      "outputs": [
        {
          "output_type": "execute_result",
          "data": {
            "text/plain": [
              "tensor([[0.7328, 0.1857, 0.5101, 0.7545],\n",
              "        [0.2884, 0.5775, 0.0358, 0.1026],\n",
              "        [0.3419, 0.4400, 0.6341, 0.6224],\n",
              "        [0.6334, 0.8580, 0.1572, 0.7853]])"
            ]
          },
          "metadata": {},
          "execution_count": 72
        }
      ]
    },
    {
      "cell_type": "code",
      "source": [
        "## lets set the range\n",
        "torch.randint(1,20,(3,3))"
      ],
      "metadata": {
        "colab": {
          "base_uri": "https://localhost:8080/"
        },
        "id": "YtAonb4jd_BR",
        "outputId": "b0faec78-8d31-4203-e7ca-4c134f4e150a"
      },
      "execution_count": 74,
      "outputs": [
        {
          "output_type": "execute_result",
          "data": {
            "text/plain": [
              "tensor([[ 3, 19, 10],\n",
              "        [11, 13, 13],\n",
              "        [ 3,  5, 10]])"
            ]
          },
          "metadata": {},
          "execution_count": 74
        }
      ]
    },
    {
      "cell_type": "code",
      "source": [
        " ## lets make some more zeros\n",
        "\n",
        "starting_tensor = torch.zeros(2,5)\n",
        "starting_tensor"
      ],
      "metadata": {
        "colab": {
          "base_uri": "https://localhost:8080/"
        },
        "id": "TYd183LkeGBT",
        "outputId": "beb3f291-1b4c-4ddd-bb85-9c0bc7c2f55f"
      },
      "execution_count": 75,
      "outputs": [
        {
          "output_type": "execute_result",
          "data": {
            "text/plain": [
              "tensor([[0., 0., 0., 0., 0.],\n",
              "        [0., 0., 0., 0., 0.]])"
            ]
          },
          "metadata": {},
          "execution_count": 75
        }
      ]
    },
    {
      "cell_type": "code",
      "source": [
        "## with same size tensors but we random values\n",
        "torch.manual_seed(111)\n",
        "\n",
        "rand_tensor = torch.rand_like(starting_tensor)\n",
        "rand_tensor"
      ],
      "metadata": {
        "colab": {
          "base_uri": "https://localhost:8080/"
        },
        "id": "vvTqHqHzez7A",
        "outputId": "3984a4a2-0e13-4b94-e096-fa82c4cdc096"
      },
      "execution_count": 76,
      "outputs": [
        {
          "output_type": "execute_result",
          "data": {
            "text/plain": [
              "tensor([[0.7156, 0.9140, 0.2819, 0.2581, 0.6311],\n",
              "        [0.6001, 0.9312, 0.2153, 0.6033, 0.7328]])"
            ]
          },
          "metadata": {},
          "execution_count": 76
        }
      ]
    },
    {
      "cell_type": "code",
      "source": [
        "## with one\n",
        "torch.ones_like(rand_tensor)"
      ],
      "metadata": {
        "colab": {
          "base_uri": "https://localhost:8080/"
        },
        "id": "N2s9gpSVfBQK",
        "outputId": "ae2c822f-ecea-4d5b-99c3-ce824f512cc0"
      },
      "execution_count": 77,
      "outputs": [
        {
          "output_type": "execute_result",
          "data": {
            "text/plain": [
              "tensor([[1., 1., 1., 1., 1.],\n",
              "        [1., 1., 1., 1., 1.]])"
            ]
          },
          "metadata": {},
          "execution_count": 77
        }
      ]
    },
    {
      "cell_type": "code",
      "source": [
        "## tensor with same number\n",
        "torch.full_like(starting_tensor, 5)"
      ],
      "metadata": {
        "colab": {
          "base_uri": "https://localhost:8080/"
        },
        "id": "tobQZXUDfHMk",
        "outputId": "2a3db837-cf0a-4965-e585-0e9272f84d2a"
      },
      "execution_count": 78,
      "outputs": [
        {
          "output_type": "execute_result",
          "data": {
            "text/plain": [
              "tensor([[5., 5., 5., 5., 5.],\n",
              "        [5., 5., 5., 5., 5.]])"
            ]
          },
          "metadata": {},
          "execution_count": 78
        }
      ]
    },
    {
      "cell_type": "code",
      "source": [
        "### tensor operations\n",
        "\n",
        "import torch"
      ],
      "metadata": {
        "id": "nZy4b2cAfk_q"
      },
      "execution_count": 79,
      "outputs": []
    },
    {
      "cell_type": "code",
      "source": [
        "one_dim_tensor = torch.tensor([1,2,3,4,5,6,7])\n",
        "print(one_dim_tensor[2])\n",
        "print(one_dim_tensor[3].item())"
      ],
      "metadata": {
        "colab": {
          "base_uri": "https://localhost:8080/"
        },
        "id": "AvV3WbRIgDlh",
        "outputId": "633cfb70-b0cb-4547-de0e-1a0af5bf1aab"
      },
      "execution_count": 82,
      "outputs": [
        {
          "output_type": "stream",
          "name": "stdout",
          "text": [
            "tensor(3)\n",
            "4\n"
          ]
        }
      ]
    },
    {
      "cell_type": "code",
      "source": [
        "## slicing with tensors\n",
        "one_dim_tensor[1:4]"
      ],
      "metadata": {
        "colab": {
          "base_uri": "https://localhost:8080/"
        },
        "id": "_S7vO4HcgNp7",
        "outputId": "390a37c2-643c-4979-c562-5a70e559c69d"
      },
      "execution_count": 83,
      "outputs": [
        {
          "output_type": "execute_result",
          "data": {
            "text/plain": [
              "tensor([2, 3, 4])"
            ]
          },
          "metadata": {},
          "execution_count": 83
        }
      ]
    },
    {
      "cell_type": "code",
      "source": [
        "one_dim_tensor[one_dim_tensor>3]"
      ],
      "metadata": {
        "colab": {
          "base_uri": "https://localhost:8080/"
        },
        "id": "EcayvghzgU8R",
        "outputId": "2f035861-4c38-4717-ecc1-4ef5537e8fbe"
      },
      "execution_count": 85,
      "outputs": [
        {
          "output_type": "execute_result",
          "data": {
            "text/plain": [
              "tensor([4, 5, 6, 7])"
            ]
          },
          "metadata": {},
          "execution_count": 85
        }
      ]
    },
    {
      "cell_type": "code",
      "source": [
        "one_dim_tensor[one_dim_tensor<2]"
      ],
      "metadata": {
        "colab": {
          "base_uri": "https://localhost:8080/"
        },
        "id": "3W1LnYkzgcqo",
        "outputId": "e6f3c188-df66-4539-cb48-92e59feb3ff6"
      },
      "execution_count": 86,
      "outputs": [
        {
          "output_type": "execute_result",
          "data": {
            "text/plain": [
              "tensor([1])"
            ]
          },
          "metadata": {},
          "execution_count": 86
        }
      ]
    },
    {
      "cell_type": "code",
      "source": [
        "first_tensor\n"
      ],
      "metadata": {
        "colab": {
          "base_uri": "https://localhost:8080/"
        },
        "id": "hQ7M9kVRghrh",
        "outputId": "8cc9dbc7-aaa4-4256-b2f8-ac15c25c095f"
      },
      "execution_count": 87,
      "outputs": [
        {
          "output_type": "execute_result",
          "data": {
            "text/plain": [
              "tensor([1, 2, 3, 4, 5, 5])"
            ]
          },
          "metadata": {},
          "execution_count": 87
        }
      ]
    },
    {
      "cell_type": "code",
      "source": [
        "second_tens = torch.tensor([3,4,5,6,7,8])"
      ],
      "metadata": {
        "id": "gkFktPLMgkcD"
      },
      "execution_count": 90,
      "outputs": []
    },
    {
      "cell_type": "code",
      "source": [
        "third = torch.stack((first_tensor, second_tens)) ## same shape k hone chaiye\n",
        "third"
      ],
      "metadata": {
        "colab": {
          "base_uri": "https://localhost:8080/"
        },
        "id": "sb3D2IQPglHJ",
        "outputId": "7a135177-5b5d-40d5-f7ec-feeb66a09e94"
      },
      "execution_count": 95,
      "outputs": [
        {
          "output_type": "execute_result",
          "data": {
            "text/plain": [
              "tensor([[1, 2, 3, 4, 5, 5],\n",
              "        [3, 4, 5, 6, 7, 8]])"
            ]
          },
          "metadata": {},
          "execution_count": 95
        }
      ]
    },
    {
      "cell_type": "markdown",
      "source": [],
      "metadata": {
        "id": "U0JIFrxGhC1c"
      }
    },
    {
      "cell_type": "code",
      "source": [
        "## lets split the above tensor\n",
        "first, second = torch.unbind(third)\n",
        "first, second"
      ],
      "metadata": {
        "colab": {
          "base_uri": "https://localhost:8080/"
        },
        "id": "BvmTeYbqgqJ7",
        "outputId": "9816e8f8-493c-4a2b-9da2-5ad0dc4d1010"
      },
      "execution_count": 97,
      "outputs": [
        {
          "output_type": "execute_result",
          "data": {
            "text/plain": [
              "(tensor([1, 2, 3, 4, 5, 5]), tensor([3, 4, 5, 6, 7, 8]))"
            ]
          },
          "metadata": {},
          "execution_count": 97
        }
      ]
    },
    {
      "cell_type": "code",
      "source": [
        "## based on dimensions\n",
        "torch.unbind(third, dim=1)"
      ],
      "metadata": {
        "colab": {
          "base_uri": "https://localhost:8080/"
        },
        "id": "PL-LTTotg_O2",
        "outputId": "28a5e828-a611-4657-833e-56bde0cdc955"
      },
      "execution_count": 98,
      "outputs": [
        {
          "output_type": "execute_result",
          "data": {
            "text/plain": [
              "(tensor([1, 3]),\n",
              " tensor([2, 4]),\n",
              " tensor([3, 5]),\n",
              " tensor([4, 6]),\n",
              " tensor([5, 7]),\n",
              " tensor([5, 8]))"
            ]
          },
          "metadata": {},
          "execution_count": 98
        }
      ]
    },
    {
      "cell_type": "code",
      "source": [
        "## maths functions\n",
        "\n",
        "a = torch.tensor([1,2,3,4])\n",
        "b = torch.tensor([6,7,9,10])\n",
        "print(\"addition\", a.add(b))\n",
        "print(\"subtract\", a.subtract(b))\n",
        "print(\"Multiply\", a.mul(b))\n",
        "print(\"Div\", a.div(b))"
      ],
      "metadata": {
        "colab": {
          "base_uri": "https://localhost:8080/"
        },
        "id": "CLl5I_tPhPd_",
        "outputId": "71911a72-0c28-4e17-f66d-9fc234920b4d"
      },
      "execution_count": 103,
      "outputs": [
        {
          "output_type": "stream",
          "name": "stdout",
          "text": [
            "addition tensor([ 7,  9, 12, 14])\n",
            "subtract tensor([-5, -5, -6, -6])\n",
            "Multiply tensor([ 6, 14, 27, 40])\n",
            "Div tensor([0.1667, 0.2857, 0.3333, 0.4000])\n"
          ]
        }
      ]
    },
    {
      "cell_type": "code",
      "source": [
        "## stats. function\n",
        "\n",
        "stat_tensor = torch.tensor([10,20,30,40,50,60,70,80,90], dtype=float) ## data type error may come if used int\n",
        "\n",
        "# print(\"mean\", torch.mean(stat_tensor))"
      ],
      "metadata": {
        "id": "1e-wqISshv7i"
      },
      "execution_count": 110,
      "outputs": []
    },
    {
      "cell_type": "code",
      "source": [
        "stat_tensor"
      ],
      "metadata": {
        "colab": {
          "base_uri": "https://localhost:8080/"
        },
        "id": "UTLerODPiTDn",
        "outputId": "49771f7a-59b6-4899-ccaf-abdfca907b7f"
      },
      "execution_count": 111,
      "outputs": [
        {
          "output_type": "execute_result",
          "data": {
            "text/plain": [
              "tensor([10., 20., 30., 40., 50., 60., 70., 80., 90.], dtype=torch.float64)"
            ]
          },
          "metadata": {},
          "execution_count": 111
        }
      ]
    },
    {
      "cell_type": "code",
      "source": [
        "torch.mean(stat_tensor)"
      ],
      "metadata": {
        "colab": {
          "base_uri": "https://localhost:8080/"
        },
        "id": "tvkdmpQqimmb",
        "outputId": "d2673378-06ec-4a48-80dc-5b8000c048d8"
      },
      "execution_count": 112,
      "outputs": [
        {
          "output_type": "execute_result",
          "data": {
            "text/plain": [
              "tensor(50., dtype=torch.float64)"
            ]
          },
          "metadata": {},
          "execution_count": 112
        }
      ]
    },
    {
      "cell_type": "code",
      "source": [
        "torch.median(stat_tensor\n",
        "             )"
      ],
      "metadata": {
        "colab": {
          "base_uri": "https://localhost:8080/"
        },
        "id": "FNPfXptliq1e",
        "outputId": "ab90e1dc-0523-4889-880e-ab03605ae67e"
      },
      "execution_count": 113,
      "outputs": [
        {
          "output_type": "execute_result",
          "data": {
            "text/plain": [
              "tensor(50., dtype=torch.float64)"
            ]
          },
          "metadata": {},
          "execution_count": 113
        }
      ]
    },
    {
      "cell_type": "code",
      "source": [
        "torch.mode(stat_tensor)"
      ],
      "metadata": {
        "colab": {
          "base_uri": "https://localhost:8080/"
        },
        "id": "O8oxiY3Qi54K",
        "outputId": "15418455-ebfe-48d2-b30a-84a59a90290b"
      },
      "execution_count": 114,
      "outputs": [
        {
          "output_type": "execute_result",
          "data": {
            "text/plain": [
              "torch.return_types.mode(\n",
              "values=tensor(10., dtype=torch.float64),\n",
              "indices=tensor(0))"
            ]
          },
          "metadata": {},
          "execution_count": 114
        }
      ]
    },
    {
      "cell_type": "code",
      "source": [
        "torch.std(stat_tensor)"
      ],
      "metadata": {
        "colab": {
          "base_uri": "https://localhost:8080/"
        },
        "id": "9PSVfUtgi9oO",
        "outputId": "d897d4b7-9db1-4804-c5ce-84795354e5aa"
      },
      "execution_count": 115,
      "outputs": [
        {
          "output_type": "execute_result",
          "data": {
            "text/plain": [
              "tensor(27.3861, dtype=torch.float64)"
            ]
          },
          "metadata": {},
          "execution_count": 115
        }
      ]
    },
    {
      "cell_type": "code",
      "source": [
        "### Linear algebra"
      ],
      "metadata": {
        "id": "nVvL_hYrjDsJ"
      },
      "execution_count": 116,
      "outputs": []
    },
    {
      "cell_type": "code",
      "source": [
        "import torch"
      ],
      "metadata": {
        "id": "WqgBszFRjVik"
      },
      "execution_count": 117,
      "outputs": []
    },
    {
      "cell_type": "code",
      "source": [
        "first_tensor= torch.tensor([1,2,3])\n",
        "second_tensor= torch.tensor([4,5,6])"
      ],
      "metadata": {
        "id": "BCBSCs4bjWxG"
      },
      "execution_count": 118,
      "outputs": []
    },
    {
      "cell_type": "code",
      "source": [
        "dot_product = torch.matmul(first_tensor, second_tensor)\n",
        "dot_product ## same goes with 2D or any size"
      ],
      "metadata": {
        "colab": {
          "base_uri": "https://localhost:8080/"
        },
        "id": "XLT51qhDjd55",
        "outputId": "d5909cd4-d41e-4a0b-d172-acad71c3a88b"
      },
      "execution_count": 121,
      "outputs": [
        {
          "output_type": "execute_result",
          "data": {
            "text/plain": [
              "tensor(32)"
            ]
          },
          "metadata": {},
          "execution_count": 121
        }
      ]
    },
    {
      "cell_type": "code",
      "source": [
        "## eignevalues and eigenvectors\n",
        "\n",
        "A = torch.randn(4,4)\n",
        "\n",
        "print(\"Tell me the matrix A\", A)"
      ],
      "metadata": {
        "colab": {
          "base_uri": "https://localhost:8080/"
        },
        "id": "3sYZn-pWjlzU",
        "outputId": "d866651f-215a-4873-ed2f-1896edb5e87e"
      },
      "execution_count": 122,
      "outputs": [
        {
          "output_type": "stream",
          "name": "stdout",
          "text": [
            "Tell me the matrix A tensor([[-0.5960, -0.7950, -1.2043, -0.5515],\n",
            "        [ 0.8237,  0.1488,  0.1024,  0.5572],\n",
            "        [ 0.2360, -0.8916, -1.1654, -0.6134],\n",
            "        [-1.0220,  0.2255, -0.4540,  0.7255]])\n"
          ]
        }
      ]
    },
    {
      "cell_type": "code",
      "source": [
        "## get the ## eignevalues and eigenvectors\n",
        "eignevalues, eigenvectors = torch.linalg.eig(A)\n",
        "print(\"eignevalues\",eignevalues)\n",
        "print(\"eigenvectors\", eigenvectors)"
      ],
      "metadata": {
        "colab": {
          "base_uri": "https://localhost:8080/"
        },
        "id": "1lXQNaNUj1h-",
        "outputId": "58c927ee-1853-43ef-b66d-28e7fc58bbb2"
      },
      "execution_count": 125,
      "outputs": [
        {
          "output_type": "stream",
          "name": "stdout",
          "text": [
            "eignevalues tensor([ 1.1825+0.0000j, -0.0333+0.0000j, -1.0182+0.8174j, -1.0182-0.8174j])\n",
            "eigenvectors tensor([[-0.1621+0.0000j, -0.1112+0.0000j,  0.6060+0.0000j,  0.6060-0.0000j],\n",
            "        [ 0.3032+0.0000j, -0.8219+0.0000j, -0.4080-0.3425j, -0.4080+0.3425j],\n",
            "        [-0.3582+0.0000j,  0.4327+0.0000j,  0.2955-0.2616j,  0.2955+0.2616j],\n",
            "        [ 0.8680+0.0000j,  0.3534+0.0000j,  0.4067+0.1668j,  0.4067-0.1668j]])\n"
          ]
        }
      ]
    },
    {
      "cell_type": "code",
      "source": [
        "### Automatic Differentation (Autograd)\n",
        "\n",
        "import torch"
      ],
      "metadata": {
        "id": "jfX_-tNhj_ES"
      },
      "execution_count": 126,
      "outputs": []
    },
    {
      "cell_type": "code",
      "source": [
        "x = torch.autograd.Variable(torch.tensor([2.]), requires_grad=True) ## we need float datatype here else error\n",
        "y = torch.autograd.Variable(torch.tensor([1.]), requires_grad=True)\n",
        "z= torch.autograd.Variable(torch.tensor([5.]), requires_grad=True)"
      ],
      "metadata": {
        "id": "KtlNCCUukRCx"
      },
      "execution_count": 132,
      "outputs": []
    },
    {
      "cell_type": "code",
      "source": [
        "## compute gradient\n",
        "# compute a as difference\n",
        "a = x-y\n",
        "\n",
        "# defin a function\n",
        "f = z*a\n",
        "f"
      ],
      "metadata": {
        "colab": {
          "base_uri": "https://localhost:8080/"
        },
        "id": "xO7psQtGklij",
        "outputId": "390c8ab6-9f69-4ca0-bd76-accc697ca2b7"
      },
      "execution_count": 141,
      "outputs": [
        {
          "output_type": "execute_result",
          "data": {
            "text/plain": [
              "tensor([5.], grad_fn=<MulBackward0>)"
            ]
          },
          "metadata": {},
          "execution_count": 141
        }
      ]
    },
    {
      "cell_type": "code",
      "source": [
        "f.backward()"
      ],
      "metadata": {
        "id": "YoKv2AMklQY1"
      },
      "execution_count": 142,
      "outputs": []
    },
    {
      "cell_type": "code",
      "source": [
        "x.grad"
      ],
      "metadata": {
        "colab": {
          "base_uri": "https://localhost:8080/"
        },
        "id": "8gOGhDQdlSFM",
        "outputId": "d2ffbdf2-d976-4fc3-9973-8d41a8af2a80"
      },
      "execution_count": 143,
      "outputs": [
        {
          "output_type": "execute_result",
          "data": {
            "text/plain": [
              "tensor([10.])"
            ]
          },
          "metadata": {},
          "execution_count": 143
        }
      ]
    },
    {
      "cell_type": "code",
      "source": [
        "y.grad"
      ],
      "metadata": {
        "colab": {
          "base_uri": "https://localhost:8080/"
        },
        "id": "GFb5rAyVlTK_",
        "outputId": "6f802bc7-ebd7-4a18-bdd4-a62219de4644"
      },
      "execution_count": 144,
      "outputs": [
        {
          "output_type": "execute_result",
          "data": {
            "text/plain": [
              "tensor([-10.])"
            ]
          },
          "metadata": {},
          "execution_count": 144
        }
      ]
    },
    {
      "cell_type": "code",
      "source": [
        "z.grad"
      ],
      "metadata": {
        "colab": {
          "base_uri": "https://localhost:8080/"
        },
        "id": "68kpvWVelV22",
        "outputId": "d85ec442-2906-4714-e509-48afc492b617"
      },
      "execution_count": 145,
      "outputs": [
        {
          "output_type": "execute_result",
          "data": {
            "text/plain": [
              "tensor([2.])"
            ]
          },
          "metadata": {},
          "execution_count": 145
        }
      ]
    },
    {
      "cell_type": "code",
      "source": [],
      "metadata": {
        "id": "MznQ-OWUlWxb"
      },
      "execution_count": null,
      "outputs": []
    }
  ]
}